{
  "nbformat": 4,
  "nbformat_minor": 0,
  "metadata": {
    "colab": {
      "provenance": [],
      "authorship_tag": "ABX9TyOZ+QTBxBFS/MMsUHtpn3+n"
    },
    "kernelspec": {
      "name": "python3",
      "display_name": "Python 3"
    },
    "language_info": {
      "name": "python"
    }
  },
  "cells": [
    {
      "cell_type": "code",
      "execution_count": 1,
      "metadata": {
        "colab": {
          "base_uri": "https://localhost:8080/"
        },
        "id": "AVqXWObVE5In",
        "outputId": "c9eee581-7c9d-4db4-f7d8-97f75804994b"
      },
      "outputs": [
        {
          "output_type": "stream",
          "name": "stdout",
          "text": [
            "Features:\n",
            "   sepal length (cm)  sepal width (cm)  petal length (cm)  petal width (cm)\n",
            "0                5.1               3.5                1.4               0.2\n",
            "1                4.9               3.0                1.4               0.2\n",
            "2                4.7               3.2                1.3               0.2\n",
            "3                4.6               3.1                1.5               0.2\n",
            "4                5.0               3.6                1.4               0.2\n",
            "\n",
            "Labels:\n",
            "[0 0 0 0 0]\n",
            "\n",
            "Mutual Information Scores for Features:\n",
            "             Feature  Mutual Information\n",
            "3   petal width (cm)            0.989486\n",
            "2  petal length (cm)            0.986095\n",
            "0  sepal length (cm)            0.496751\n",
            "1   sepal width (cm)            0.281338\n",
            "\n",
            "Accuracy with top 2 selected features: 1.00\n"
          ]
        }
      ],
      "source": [
        "# Import necessary libraries\n",
        "import numpy as np\n",
        "import pandas as pd\n",
        "from sklearn.datasets import load_iris\n",
        "from sklearn.feature_selection import mutual_info_classif\n",
        "from sklearn.model_selection import train_test_split\n",
        "from sklearn.ensemble import RandomForestClassifier\n",
        "from sklearn.metrics import accuracy_score\n",
        "\n",
        "# Load Iris dataset\n",
        "data = load_iris()\n",
        "X = pd.DataFrame(data.data, columns=data.feature_names)\n",
        "y = data.target\n",
        "\n",
        "# Display the first few rows of the dataset\n",
        "print(\"Features:\")\n",
        "print(X.head())\n",
        "print(\"\\nLabels:\")\n",
        "print(y[:5])\n",
        "\n",
        "# Compute Mutual Information between each feature and the target variable\n",
        "mi = mutual_info_classif(X, y)\n",
        "\n",
        "# Create a DataFrame to visualize mutual information scores\n",
        "mi_df = pd.DataFrame({\n",
        "    'Feature': data.feature_names,\n",
        "    'Mutual Information': mi\n",
        "}).sort_values(by='Mutual Information', ascending=False)\n",
        "\n",
        "print(\"\\nMutual Information Scores for Features:\")\n",
        "print(mi_df)\n",
        "\n",
        "# Select features with high MI for modeling\n",
        "# In this case, let's take top 2 features for simplicity\n",
        "top_features = mi_df['Feature'].iloc[:2].values\n",
        "X_selected = X[top_features]\n",
        "\n",
        "# Split the dataset\n",
        "X_train, X_test, y_train, y_test = train_test_split(X_selected, y, test_size=0.3, random_state=42)\n",
        "\n",
        "# Train a simple Random Forest classifier on selected features\n",
        "clf = RandomForestClassifier(random_state=42)\n",
        "clf.fit(X_train, y_train)\n",
        "\n",
        "# Make predictions\n",
        "y_pred = clf.predict(X_test)\n",
        "\n",
        "# Evaluate the model\n",
        "accuracy = accuracy_score(y_test, y_pred)\n",
        "print(f\"\\nAccuracy with top 2 selected features: {accuracy:.2f}\")\n"
      ]
    }
  ]
}